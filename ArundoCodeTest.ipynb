{
 "cells": [
  {
   "cell_type": "markdown",
   "metadata": {},
   "source": [
    "This notebook documents my work for a data scientist position code test.  It has lightly been edited to include the questions and my answers (as per the multiple choice selection).  However, I have left the code as is so you can see my thought progress for each question.  I did the \"CodeChallenge\" questions within the broswer code editor and have not replicated them here.  My essay response was copy and pasted here right before I submitted it online. "
   ]
  },
  {
   "cell_type": "code",
   "execution_count": 1,
   "metadata": {},
   "outputs": [],
   "source": [
    "import pandas as pd \n",
    "import numpy as np\n",
    "import matplotlib.pyplot as plt\n",
    "import seaborn as sns\n",
    "import sklearn"
   ]
  },
  {
   "cell_type": "markdown",
   "metadata": {},
   "source": [
    "# Q1\n",
    "You are given the data file 'data1.csv'.  The first line is the column header `[id, sla, overdue, x, y, type]`.\n",
    "\n",
    "Find the mean value of the column `overdue`."
   ]
  },
  {
   "cell_type": "code",
   "execution_count": 2,
   "metadata": {},
   "outputs": [
    {
     "data": {
      "text/html": [
       "<div>\n",
       "<style scoped>\n",
       "    .dataframe tbody tr th:only-of-type {\n",
       "        vertical-align: middle;\n",
       "    }\n",
       "\n",
       "    .dataframe tbody tr th {\n",
       "        vertical-align: top;\n",
       "    }\n",
       "\n",
       "    .dataframe thead th {\n",
       "        text-align: right;\n",
       "    }\n",
       "</style>\n",
       "<table border=\"1\" class=\"dataframe\">\n",
       "  <thead>\n",
       "    <tr style=\"text-align: right;\">\n",
       "      <th></th>\n",
       "      <th>id</th>\n",
       "      <th>sla</th>\n",
       "      <th>overdue</th>\n",
       "      <th>x</th>\n",
       "      <th>y</th>\n",
       "      <th>type</th>\n",
       "    </tr>\n",
       "  </thead>\n",
       "  <tbody>\n",
       "    <tr>\n",
       "      <th>0</th>\n",
       "      <td>101000879701</td>\n",
       "      <td>10.0</td>\n",
       "      <td>-8.98</td>\n",
       "      <td>3105443.57</td>\n",
       "      <td>13832598.28</td>\n",
       "      <td>3.0</td>\n",
       "    </tr>\n",
       "    <tr>\n",
       "      <th>1</th>\n",
       "      <td>11682872-101001143202</td>\n",
       "      <td>14.0</td>\n",
       "      <td>-7.79</td>\n",
       "      <td>3047695.62</td>\n",
       "      <td>13826869.96</td>\n",
       "      <td>3.0</td>\n",
       "    </tr>\n",
       "    <tr>\n",
       "      <th>2</th>\n",
       "      <td>101001090815</td>\n",
       "      <td>10.0</td>\n",
       "      <td>-8.59</td>\n",
       "      <td>3078170.34</td>\n",
       "      <td>13820368.28</td>\n",
       "      <td>3.0</td>\n",
       "    </tr>\n",
       "    <tr>\n",
       "      <th>3</th>\n",
       "      <td>11594791-101000891316</td>\n",
       "      <td>15.0</td>\n",
       "      <td>-14.89</td>\n",
       "      <td>3041615.31</td>\n",
       "      <td>13820936.90</td>\n",
       "      <td>3.0</td>\n",
       "    </tr>\n",
       "    <tr>\n",
       "      <th>4</th>\n",
       "      <td>101001002655</td>\n",
       "      <td>4.0</td>\n",
       "      <td>4.57</td>\n",
       "      <td>3041051.24</td>\n",
       "      <td>13824386.21</td>\n",
       "      <td>3.0</td>\n",
       "    </tr>\n",
       "  </tbody>\n",
       "</table>\n",
       "</div>"
      ],
      "text/plain": [
       "                      id   sla  overdue           x            y  type\n",
       "0           101000879701  10.0    -8.98  3105443.57  13832598.28   3.0\n",
       "1  11682872-101001143202  14.0    -7.79  3047695.62  13826869.96   3.0\n",
       "2           101001090815  10.0    -8.59  3078170.34  13820368.28   3.0\n",
       "3  11594791-101000891316  15.0   -14.89  3041615.31  13820936.90   3.0\n",
       "4           101001002655   4.0     4.57  3041051.24  13824386.21   3.0"
      ]
     },
     "execution_count": 2,
     "metadata": {},
     "output_type": "execute_result"
    }
   ],
   "source": [
    "data1 = pd.read_csv('./AnalysisData/data1.csv')\n",
    "data1.head()"
   ]
  },
  {
   "cell_type": "code",
   "execution_count": 10,
   "metadata": {},
   "outputs": [
    {
     "data": {
      "text/html": [
       "<div>\n",
       "<style scoped>\n",
       "    .dataframe tbody tr th:only-of-type {\n",
       "        vertical-align: middle;\n",
       "    }\n",
       "\n",
       "    .dataframe tbody tr th {\n",
       "        vertical-align: top;\n",
       "    }\n",
       "\n",
       "    .dataframe thead th {\n",
       "        text-align: right;\n",
       "    }\n",
       "</style>\n",
       "<table border=\"1\" class=\"dataframe\">\n",
       "  <thead>\n",
       "    <tr style=\"text-align: right;\">\n",
       "      <th></th>\n",
       "      <th>sla</th>\n",
       "      <th>overdue</th>\n",
       "      <th>x</th>\n",
       "      <th>y</th>\n",
       "      <th>type</th>\n",
       "    </tr>\n",
       "  </thead>\n",
       "  <tbody>\n",
       "    <tr>\n",
       "      <th>count</th>\n",
       "      <td>25000.000000</td>\n",
       "      <td>25000.000000</td>\n",
       "      <td>2.500000e+04</td>\n",
       "      <td>2.500000e+04</td>\n",
       "      <td>25000.000000</td>\n",
       "    </tr>\n",
       "    <tr>\n",
       "      <th>mean</th>\n",
       "      <td>30.992280</td>\n",
       "      <td>-4.798978</td>\n",
       "      <td>3.109990e+06</td>\n",
       "      <td>1.383583e+07</td>\n",
       "      <td>2.945040</td>\n",
       "    </tr>\n",
       "    <tr>\n",
       "      <th>std</th>\n",
       "      <td>51.215171</td>\n",
       "      <td>102.036356</td>\n",
       "      <td>3.451559e+04</td>\n",
       "      <td>3.273077e+04</td>\n",
       "      <td>0.266725</td>\n",
       "    </tr>\n",
       "    <tr>\n",
       "      <th>min</th>\n",
       "      <td>1.000000</td>\n",
       "      <td>-501.040000</td>\n",
       "      <td>2.077445e+06</td>\n",
       "      <td>1.370344e+07</td>\n",
       "      <td>0.000000</td>\n",
       "    </tr>\n",
       "    <tr>\n",
       "      <th>25%</th>\n",
       "      <td>6.000000</td>\n",
       "      <td>-14.950000</td>\n",
       "      <td>3.085637e+06</td>\n",
       "      <td>1.381152e+07</td>\n",
       "      <td>3.000000</td>\n",
       "    </tr>\n",
       "    <tr>\n",
       "      <th>50%</th>\n",
       "      <td>14.000000</td>\n",
       "      <td>-6.100000</td>\n",
       "      <td>3.111065e+06</td>\n",
       "      <td>1.383432e+07</td>\n",
       "      <td>3.000000</td>\n",
       "    </tr>\n",
       "    <tr>\n",
       "      <th>75%</th>\n",
       "      <td>25.000000</td>\n",
       "      <td>-1.050000</td>\n",
       "      <td>3.133117e+06</td>\n",
       "      <td>1.385723e+07</td>\n",
       "      <td>3.000000</td>\n",
       "    </tr>\n",
       "    <tr>\n",
       "      <th>max</th>\n",
       "      <td>180.000000</td>\n",
       "      <td>1399.120000</td>\n",
       "      <td>3.207514e+06</td>\n",
       "      <td>1.396255e+07</td>\n",
       "      <td>5.000000</td>\n",
       "    </tr>\n",
       "  </tbody>\n",
       "</table>\n",
       "</div>"
      ],
      "text/plain": [
       "                sla       overdue             x             y          type\n",
       "count  25000.000000  25000.000000  2.500000e+04  2.500000e+04  25000.000000\n",
       "mean      30.992280     -4.798978  3.109990e+06  1.383583e+07      2.945040\n",
       "std       51.215171    102.036356  3.451559e+04  3.273077e+04      0.266725\n",
       "min        1.000000   -501.040000  2.077445e+06  1.370344e+07      0.000000\n",
       "25%        6.000000    -14.950000  3.085637e+06  1.381152e+07      3.000000\n",
       "50%       14.000000     -6.100000  3.111065e+06  1.383432e+07      3.000000\n",
       "75%       25.000000     -1.050000  3.133117e+06  1.385723e+07      3.000000\n",
       "max      180.000000   1399.120000  3.207514e+06  1.396255e+07      5.000000"
      ]
     },
     "execution_count": 10,
     "metadata": {},
     "output_type": "execute_result"
    }
   ],
   "source": [
    "data1.describe()"
   ]
  },
  {
   "cell_type": "code",
   "execution_count": 3,
   "metadata": {},
   "outputs": [
    {
     "data": {
      "text/plain": [
       "-4.798978000000018"
      ]
     },
     "execution_count": 3,
     "metadata": {},
     "output_type": "execute_result"
    }
   ],
   "source": [
    "data1['overdue'].mean()"
   ]
  },
  {
   "cell_type": "markdown",
   "metadata": {},
   "source": [
    "## My Answer: -4.80"
   ]
  },
  {
   "cell_type": "markdown",
   "metadata": {},
   "source": [
    "# Q2\n",
    "For type 2 events, what is the median value of `sla`?"
   ]
  },
  {
   "cell_type": "code",
   "execution_count": 5,
   "metadata": {},
   "outputs": [
    {
     "data": {
      "text/plain": [
       "14.0"
      ]
     },
     "execution_count": 5,
     "metadata": {},
     "output_type": "execute_result"
    }
   ],
   "source": [
    "data1['sla'][data1['type'] == 2].median() "
   ]
  },
  {
   "cell_type": "markdown",
   "metadata": {},
   "source": [
    "## My Answer: 14.0"
   ]
  },
  {
   "cell_type": "markdown",
   "metadata": {},
   "source": [
    "# Q3\n",
    "\n",
    "What fraction of the events are `type` == 2?"
   ]
  },
  {
   "cell_type": "code",
   "execution_count": 6,
   "metadata": {},
   "outputs": [
    {
     "data": {
      "text/plain": [
       "3.0    23583\n",
       "2.0     1321\n",
       "5.0       41\n",
       "0.0       31\n",
       "1.0       22\n",
       "4.0        2\n",
       "Name: type, dtype: int64"
      ]
     },
     "execution_count": 6,
     "metadata": {},
     "output_type": "execute_result"
    }
   ],
   "source": [
    "data1['type'].value_counts()"
   ]
  },
  {
   "cell_type": "code",
   "execution_count": 15,
   "metadata": {},
   "outputs": [
    {
     "data": {
      "text/plain": [
       "0.05284"
      ]
     },
     "execution_count": 15,
     "metadata": {},
     "output_type": "execute_result"
    }
   ],
   "source": [
    "(data1['type'][data1['type'] == 2].count()) / data1['type'].count()"
   ]
  },
  {
   "cell_type": "code",
   "execution_count": 16,
   "metadata": {},
   "outputs": [
    {
     "data": {
      "text/plain": [
       "0.05284"
      ]
     },
     "execution_count": 16,
     "metadata": {},
     "output_type": "execute_result"
    }
   ],
   "source": [
    "1321/25000 "
   ]
  },
  {
   "cell_type": "markdown",
   "metadata": {},
   "source": [
    "## My Answer: 0.05284"
   ]
  },
  {
   "cell_type": "markdown",
   "metadata": {},
   "source": [
    "# Q4\n",
    "\n",
    "You are given the data file 'data2.json'.  It contains a JSON array of objects with the following format:\n",
    "\n",
    "- id: string\n",
    "- id2: string\n",
    "- key: string\n",
    "- created: number, UNIX timestamp in milliseconds\n",
    "- district: string\n",
    "\n",
    "Find the 3 districts with the most entries."
   ]
  },
  {
   "cell_type": "code",
   "execution_count": 35,
   "metadata": {},
   "outputs": [
    {
     "data": {
      "text/html": [
       "<div>\n",
       "<style scoped>\n",
       "    .dataframe tbody tr th:only-of-type {\n",
       "        vertical-align: middle;\n",
       "    }\n",
       "\n",
       "    .dataframe tbody tr th {\n",
       "        vertical-align: top;\n",
       "    }\n",
       "\n",
       "    .dataframe thead th {\n",
       "        text-align: right;\n",
       "    }\n",
       "</style>\n",
       "<table border=\"1\" class=\"dataframe\">\n",
       "  <thead>\n",
       "    <tr style=\"text-align: right;\">\n",
       "      <th></th>\n",
       "      <th>created</th>\n",
       "      <th>district</th>\n",
       "      <th>id</th>\n",
       "      <th>id2</th>\n",
       "      <th>key</th>\n",
       "    </tr>\n",
       "  </thead>\n",
       "  <tbody>\n",
       "    <tr>\n",
       "      <th>0</th>\n",
       "      <td>1357571830000</td>\n",
       "      <td>C</td>\n",
       "      <td>101000879701</td>\n",
       "      <td>1231880010005</td>\n",
       "      <td>492U</td>\n",
       "    </tr>\n",
       "    <tr>\n",
       "      <th>1</th>\n",
       "      <td>1380367716000</td>\n",
       "      <td>F</td>\n",
       "      <td>11682872-101001143202</td>\n",
       "      <td>1181610010014</td>\n",
       "      <td>488Z</td>\n",
       "    </tr>\n",
       "    <tr>\n",
       "      <th>2</th>\n",
       "      <td>1376290781000</td>\n",
       "      <td>J</td>\n",
       "      <td>101001090815</td>\n",
       "      <td>0834050000002</td>\n",
       "      <td>530H</td>\n",
       "    </tr>\n",
       "    <tr>\n",
       "      <th>3</th>\n",
       "      <td>1358517113000</td>\n",
       "      <td>F</td>\n",
       "      <td>11594791-101000891316</td>\n",
       "      <td>1095590000010</td>\n",
       "      <td>528G</td>\n",
       "    </tr>\n",
       "    <tr>\n",
       "      <th>4</th>\n",
       "      <td>1368462905000</td>\n",
       "      <td>F</td>\n",
       "      <td>101001002655</td>\n",
       "      <td>1138180000022</td>\n",
       "      <td>528C</td>\n",
       "    </tr>\n",
       "  </tbody>\n",
       "</table>\n",
       "</div>"
      ],
      "text/plain": [
       "         created district                     id            id2   key\n",
       "0  1357571830000        C           101000879701  1231880010005  492U\n",
       "1  1380367716000        F  11682872-101001143202  1181610010014  488Z\n",
       "2  1376290781000        J           101001090815  0834050000002  530H\n",
       "3  1358517113000        F  11594791-101000891316  1095590000010  528G\n",
       "4  1368462905000        F           101001002655  1138180000022  528C"
      ]
     },
     "execution_count": 35,
     "metadata": {},
     "output_type": "execute_result"
    }
   ],
   "source": [
    "data2 = pd.read_json('./AnalysisData/data2.json')\n",
    "data2.head()"
   ]
  },
  {
   "cell_type": "code",
   "execution_count": 36,
   "metadata": {},
   "outputs": [
    {
     "data": {
      "text/html": [
       "<div>\n",
       "<style scoped>\n",
       "    .dataframe tbody tr th:only-of-type {\n",
       "        vertical-align: middle;\n",
       "    }\n",
       "\n",
       "    .dataframe tbody tr th {\n",
       "        vertical-align: top;\n",
       "    }\n",
       "\n",
       "    .dataframe thead th {\n",
       "        text-align: right;\n",
       "    }\n",
       "</style>\n",
       "<table border=\"1\" class=\"dataframe\">\n",
       "  <thead>\n",
       "    <tr style=\"text-align: right;\">\n",
       "      <th></th>\n",
       "      <th>created</th>\n",
       "    </tr>\n",
       "  </thead>\n",
       "  <tbody>\n",
       "    <tr>\n",
       "      <th>count</th>\n",
       "      <td>2.500000e+04</td>\n",
       "    </tr>\n",
       "    <tr>\n",
       "      <th>mean</th>\n",
       "      <td>1.372960e+12</td>\n",
       "    </tr>\n",
       "    <tr>\n",
       "      <th>std</th>\n",
       "      <td>8.953443e+09</td>\n",
       "    </tr>\n",
       "    <tr>\n",
       "      <th>min</th>\n",
       "      <td>1.357029e+12</td>\n",
       "    </tr>\n",
       "    <tr>\n",
       "      <th>25%</th>\n",
       "      <td>1.365191e+12</td>\n",
       "    </tr>\n",
       "    <tr>\n",
       "      <th>50%</th>\n",
       "      <td>1.373450e+12</td>\n",
       "    </tr>\n",
       "    <tr>\n",
       "      <th>75%</th>\n",
       "      <td>1.380543e+12</td>\n",
       "    </tr>\n",
       "    <tr>\n",
       "      <th>max</th>\n",
       "      <td>1.388522e+12</td>\n",
       "    </tr>\n",
       "  </tbody>\n",
       "</table>\n",
       "</div>"
      ],
      "text/plain": [
       "            created\n",
       "count  2.500000e+04\n",
       "mean   1.372960e+12\n",
       "std    8.953443e+09\n",
       "min    1.357029e+12\n",
       "25%    1.365191e+12\n",
       "50%    1.373450e+12\n",
       "75%    1.380543e+12\n",
       "max    1.388522e+12"
      ]
     },
     "execution_count": 36,
     "metadata": {},
     "output_type": "execute_result"
    }
   ],
   "source": [
    "data2.describe()"
   ]
  },
  {
   "cell_type": "code",
   "execution_count": 80,
   "metadata": {},
   "outputs": [
    {
     "data": {
      "text/plain": [
       "C    3945\n",
       "D    3338\n",
       "B    2899\n",
       "Name: district, dtype: int64"
      ]
     },
     "execution_count": 80,
     "metadata": {},
     "output_type": "execute_result"
    }
   ],
   "source": [
    "data2['district'].value_counts()[:3]"
   ]
  },
  {
   "cell_type": "markdown",
   "metadata": {},
   "source": [
    "## My Answer: B, C, D"
   ]
  },
  {
   "cell_type": "markdown",
   "metadata": {},
   "source": [
    "# Q5\n",
    "\n",
    "Select the week that has the most entries.  Assume that the timestamps and dates are UTC."
   ]
  },
  {
   "cell_type": "code",
   "execution_count": 38,
   "metadata": {},
   "outputs": [],
   "source": [
    "data2['created'] = pd.to_datetime(data2['created'], unit='ms')"
   ]
  },
  {
   "cell_type": "code",
   "execution_count": 40,
   "metadata": {},
   "outputs": [
    {
     "data": {
      "text/plain": [
       "created     datetime64[ns]\n",
       "district            object\n",
       "id                  object\n",
       "id2                 object\n",
       "key                 object\n",
       "dtype: object"
      ]
     },
     "execution_count": 40,
     "metadata": {},
     "output_type": "execute_result"
    }
   ],
   "source": [
    "data2.dtypes"
   ]
  },
  {
   "cell_type": "code",
   "execution_count": 41,
   "metadata": {},
   "outputs": [
    {
     "data": {
      "text/html": [
       "<div>\n",
       "<style scoped>\n",
       "    .dataframe tbody tr th:only-of-type {\n",
       "        vertical-align: middle;\n",
       "    }\n",
       "\n",
       "    .dataframe tbody tr th {\n",
       "        vertical-align: top;\n",
       "    }\n",
       "\n",
       "    .dataframe thead th {\n",
       "        text-align: right;\n",
       "    }\n",
       "</style>\n",
       "<table border=\"1\" class=\"dataframe\">\n",
       "  <thead>\n",
       "    <tr style=\"text-align: right;\">\n",
       "      <th></th>\n",
       "      <th>created</th>\n",
       "      <th>district</th>\n",
       "      <th>id</th>\n",
       "      <th>id2</th>\n",
       "      <th>key</th>\n",
       "    </tr>\n",
       "  </thead>\n",
       "  <tbody>\n",
       "    <tr>\n",
       "      <th>0</th>\n",
       "      <td>2013-01-07 15:17:10</td>\n",
       "      <td>C</td>\n",
       "      <td>101000879701</td>\n",
       "      <td>1231880010005</td>\n",
       "      <td>492U</td>\n",
       "    </tr>\n",
       "    <tr>\n",
       "      <th>1</th>\n",
       "      <td>2013-09-28 11:28:36</td>\n",
       "      <td>F</td>\n",
       "      <td>11682872-101001143202</td>\n",
       "      <td>1181610010014</td>\n",
       "      <td>488Z</td>\n",
       "    </tr>\n",
       "    <tr>\n",
       "      <th>2</th>\n",
       "      <td>2013-08-12 06:59:41</td>\n",
       "      <td>J</td>\n",
       "      <td>101001090815</td>\n",
       "      <td>0834050000002</td>\n",
       "      <td>530H</td>\n",
       "    </tr>\n",
       "    <tr>\n",
       "      <th>3</th>\n",
       "      <td>2013-01-18 13:51:53</td>\n",
       "      <td>F</td>\n",
       "      <td>11594791-101000891316</td>\n",
       "      <td>1095590000010</td>\n",
       "      <td>528G</td>\n",
       "    </tr>\n",
       "    <tr>\n",
       "      <th>4</th>\n",
       "      <td>2013-05-13 16:35:05</td>\n",
       "      <td>F</td>\n",
       "      <td>101001002655</td>\n",
       "      <td>1138180000022</td>\n",
       "      <td>528C</td>\n",
       "    </tr>\n",
       "  </tbody>\n",
       "</table>\n",
       "</div>"
      ],
      "text/plain": [
       "              created district                     id            id2   key\n",
       "0 2013-01-07 15:17:10        C           101000879701  1231880010005  492U\n",
       "1 2013-09-28 11:28:36        F  11682872-101001143202  1181610010014  488Z\n",
       "2 2013-08-12 06:59:41        J           101001090815  0834050000002  530H\n",
       "3 2013-01-18 13:51:53        F  11594791-101000891316  1095590000010  528G\n",
       "4 2013-05-13 16:35:05        F           101001002655  1138180000022  528C"
      ]
     },
     "execution_count": 41,
     "metadata": {},
     "output_type": "execute_result"
    }
   ],
   "source": [
    "data2.head()"
   ]
  },
  {
   "cell_type": "code",
   "execution_count": 51,
   "metadata": {},
   "outputs": [
    {
     "data": {
      "text/plain": [
       "(25000, 6)"
      ]
     },
     "execution_count": 51,
     "metadata": {},
     "output_type": "execute_result"
    }
   ],
   "source": [
    "data2.shape"
   ]
  },
  {
   "cell_type": "code",
   "execution_count": 42,
   "metadata": {},
   "outputs": [
    {
     "data": {
      "text/plain": [
       "count                   25000\n",
       "unique                  24979\n",
       "top       2013-11-14 08:42:21\n",
       "freq                        2\n",
       "first     2013-01-01 08:26:29\n",
       "last      2013-12-31 20:29:42\n",
       "Name: created, dtype: object"
      ]
     },
     "execution_count": 42,
     "metadata": {},
     "output_type": "execute_result"
    }
   ],
   "source": [
    "data2['created'].describe()"
   ]
  },
  {
   "cell_type": "code",
   "execution_count": 44,
   "metadata": {},
   "outputs": [],
   "source": [
    "data2['week'] = data2['created'].dt.week"
   ]
  },
  {
   "cell_type": "code",
   "execution_count": 48,
   "metadata": {},
   "outputs": [
    {
     "data": {
      "text/plain": [
       "33    623\n",
       "39    582\n",
       "38    544\n",
       "32    541\n",
       "42    531\n",
       "Name: week, dtype: int64"
      ]
     },
     "execution_count": 48,
     "metadata": {},
     "output_type": "execute_result"
    }
   ],
   "source": [
    "data2['week'].value_counts()[:5]"
   ]
  },
  {
   "cell_type": "code",
   "execution_count": 50,
   "metadata": {},
   "outputs": [
    {
     "data": {
      "text/html": [
       "<div>\n",
       "<style scoped>\n",
       "    .dataframe tbody tr th:only-of-type {\n",
       "        vertical-align: middle;\n",
       "    }\n",
       "\n",
       "    .dataframe tbody tr th {\n",
       "        vertical-align: top;\n",
       "    }\n",
       "\n",
       "    .dataframe thead th {\n",
       "        text-align: right;\n",
       "    }\n",
       "</style>\n",
       "<table border=\"1\" class=\"dataframe\">\n",
       "  <thead>\n",
       "    <tr style=\"text-align: right;\">\n",
       "      <th></th>\n",
       "      <th>created</th>\n",
       "      <th>district</th>\n",
       "      <th>id</th>\n",
       "      <th>id2</th>\n",
       "      <th>key</th>\n",
       "      <th>week</th>\n",
       "    </tr>\n",
       "  </thead>\n",
       "  <tbody>\n",
       "    <tr>\n",
       "      <th>2</th>\n",
       "      <td>2013-08-12 06:59:41</td>\n",
       "      <td>J</td>\n",
       "      <td>101001090815</td>\n",
       "      <td>0834050000002</td>\n",
       "      <td>530H</td>\n",
       "      <td>33</td>\n",
       "    </tr>\n",
       "    <tr>\n",
       "      <th>36</th>\n",
       "      <td>2013-08-18 13:34:41</td>\n",
       "      <td>F</td>\n",
       "      <td>0-101001098519</td>\n",
       "      <td>1005100000013</td>\n",
       "      <td>529J</td>\n",
       "      <td>33</td>\n",
       "    </tr>\n",
       "    <tr>\n",
       "      <th>67</th>\n",
       "      <td>2013-08-15 12:10:26</td>\n",
       "      <td>F</td>\n",
       "      <td>11665384-101001095518</td>\n",
       "      <td>1010990000001</td>\n",
       "      <td>529P</td>\n",
       "      <td>33</td>\n",
       "    </tr>\n",
       "    <tr>\n",
       "      <th>71</th>\n",
       "      <td>2013-08-13 14:08:41</td>\n",
       "      <td>G</td>\n",
       "      <td>11664553-101001093189</td>\n",
       "      <td>0451400040271</td>\n",
       "      <td>491Z</td>\n",
       "      <td>33</td>\n",
       "    </tr>\n",
       "    <tr>\n",
       "      <th>77</th>\n",
       "      <td>2013-08-12 06:11:22</td>\n",
       "      <td>D</td>\n",
       "      <td>0-101001090804</td>\n",
       "      <td>0170470110004</td>\n",
       "      <td>494W</td>\n",
       "      <td>33</td>\n",
       "    </tr>\n",
       "    <tr>\n",
       "      <th>139</th>\n",
       "      <td>2013-08-16 13:48:10</td>\n",
       "      <td>A</td>\n",
       "      <td>11665889-101001097030</td>\n",
       "      <td>0780590080012</td>\n",
       "      <td>450Z</td>\n",
       "      <td>33</td>\n",
       "    </tr>\n",
       "    <tr>\n",
       "      <th>162</th>\n",
       "      <td>2013-08-15 09:49:35</td>\n",
       "      <td>H</td>\n",
       "      <td>101001095292</td>\n",
       "      <td>0611890000012</td>\n",
       "      <td>493B</td>\n",
       "      <td>33</td>\n",
       "    </tr>\n",
       "    <tr>\n",
       "      <th>210</th>\n",
       "      <td>2013-08-14 16:26:27</td>\n",
       "      <td>B</td>\n",
       "      <td>11665108-101001094720</td>\n",
       "      <td>0731800030578</td>\n",
       "      <td>454G</td>\n",
       "      <td>33</td>\n",
       "    </tr>\n",
       "    <tr>\n",
       "      <th>279</th>\n",
       "      <td>2013-08-16 08:31:40</td>\n",
       "      <td>G</td>\n",
       "      <td>11665672-101001096395</td>\n",
       "      <td>1064180000056</td>\n",
       "      <td>489N</td>\n",
       "      <td>33</td>\n",
       "    </tr>\n",
       "    <tr>\n",
       "      <th>298</th>\n",
       "      <td>2013-08-17 12:40:50</td>\n",
       "      <td>A</td>\n",
       "      <td>11666292-101001098061</td>\n",
       "      <td>0985480000015</td>\n",
       "      <td>450K</td>\n",
       "      <td>33</td>\n",
       "    </tr>\n",
       "  </tbody>\n",
       "</table>\n",
       "</div>"
      ],
      "text/plain": [
       "                created district                     id            id2   key  \\\n",
       "2   2013-08-12 06:59:41        J           101001090815  0834050000002  530H   \n",
       "36  2013-08-18 13:34:41        F         0-101001098519  1005100000013  529J   \n",
       "67  2013-08-15 12:10:26        F  11665384-101001095518  1010990000001  529P   \n",
       "71  2013-08-13 14:08:41        G  11664553-101001093189  0451400040271  491Z   \n",
       "77  2013-08-12 06:11:22        D         0-101001090804  0170470110004  494W   \n",
       "139 2013-08-16 13:48:10        A  11665889-101001097030  0780590080012  450Z   \n",
       "162 2013-08-15 09:49:35        H           101001095292  0611890000012  493B   \n",
       "210 2013-08-14 16:26:27        B  11665108-101001094720  0731800030578  454G   \n",
       "279 2013-08-16 08:31:40        G  11665672-101001096395  1064180000056  489N   \n",
       "298 2013-08-17 12:40:50        A  11666292-101001098061  0985480000015  450K   \n",
       "\n",
       "     week  \n",
       "2      33  \n",
       "36     33  \n",
       "67     33  \n",
       "71     33  \n",
       "77     33  \n",
       "139    33  \n",
       "162    33  \n",
       "210    33  \n",
       "279    33  \n",
       "298    33  "
      ]
     },
     "execution_count": 50,
     "metadata": {},
     "output_type": "execute_result"
    }
   ],
   "source": [
    "data2[data2['week'] == 33][:10]"
   ]
  },
  {
   "cell_type": "markdown",
   "metadata": {},
   "source": [
    "## My Answer: 12 - 18 Aug 2013"
   ]
  },
  {
   "cell_type": "markdown",
   "metadata": {},
   "source": [
    "# Q6\n",
    "\n",
    "This question asks you to use both datafiles from previous questions.\n",
    "\n",
    "What day of the week has the lowest mean overdue value?"
   ]
  },
  {
   "cell_type": "code",
   "execution_count": 52,
   "metadata": {},
   "outputs": [],
   "source": [
    "data_combine = pd.merge(data1, data2, how='outer',\n",
    "                       left_on='id', right_on='id')"
   ]
  },
  {
   "cell_type": "code",
   "execution_count": 53,
   "metadata": {},
   "outputs": [
    {
     "data": {
      "text/html": [
       "<div>\n",
       "<style scoped>\n",
       "    .dataframe tbody tr th:only-of-type {\n",
       "        vertical-align: middle;\n",
       "    }\n",
       "\n",
       "    .dataframe tbody tr th {\n",
       "        vertical-align: top;\n",
       "    }\n",
       "\n",
       "    .dataframe thead th {\n",
       "        text-align: right;\n",
       "    }\n",
       "</style>\n",
       "<table border=\"1\" class=\"dataframe\">\n",
       "  <thead>\n",
       "    <tr style=\"text-align: right;\">\n",
       "      <th></th>\n",
       "      <th>id</th>\n",
       "      <th>sla</th>\n",
       "      <th>overdue</th>\n",
       "      <th>x</th>\n",
       "      <th>y</th>\n",
       "      <th>type</th>\n",
       "      <th>created</th>\n",
       "      <th>district</th>\n",
       "      <th>id2</th>\n",
       "      <th>key</th>\n",
       "      <th>week</th>\n",
       "    </tr>\n",
       "  </thead>\n",
       "  <tbody>\n",
       "    <tr>\n",
       "      <th>0</th>\n",
       "      <td>101000879701</td>\n",
       "      <td>10.0</td>\n",
       "      <td>-8.98</td>\n",
       "      <td>3105443.57</td>\n",
       "      <td>13832598.28</td>\n",
       "      <td>3.0</td>\n",
       "      <td>2013-01-07 15:17:10</td>\n",
       "      <td>C</td>\n",
       "      <td>1231880010005</td>\n",
       "      <td>492U</td>\n",
       "      <td>2</td>\n",
       "    </tr>\n",
       "    <tr>\n",
       "      <th>1</th>\n",
       "      <td>11682872-101001143202</td>\n",
       "      <td>14.0</td>\n",
       "      <td>-7.79</td>\n",
       "      <td>3047695.62</td>\n",
       "      <td>13826869.96</td>\n",
       "      <td>3.0</td>\n",
       "      <td>2013-09-28 11:28:36</td>\n",
       "      <td>F</td>\n",
       "      <td>1181610010014</td>\n",
       "      <td>488Z</td>\n",
       "      <td>39</td>\n",
       "    </tr>\n",
       "    <tr>\n",
       "      <th>2</th>\n",
       "      <td>101001090815</td>\n",
       "      <td>10.0</td>\n",
       "      <td>-8.59</td>\n",
       "      <td>3078170.34</td>\n",
       "      <td>13820368.28</td>\n",
       "      <td>3.0</td>\n",
       "      <td>2013-08-12 06:59:41</td>\n",
       "      <td>J</td>\n",
       "      <td>0834050000002</td>\n",
       "      <td>530H</td>\n",
       "      <td>33</td>\n",
       "    </tr>\n",
       "    <tr>\n",
       "      <th>3</th>\n",
       "      <td>11594791-101000891316</td>\n",
       "      <td>15.0</td>\n",
       "      <td>-14.89</td>\n",
       "      <td>3041615.31</td>\n",
       "      <td>13820936.90</td>\n",
       "      <td>3.0</td>\n",
       "      <td>2013-01-18 13:51:53</td>\n",
       "      <td>F</td>\n",
       "      <td>1095590000010</td>\n",
       "      <td>528G</td>\n",
       "      <td>3</td>\n",
       "    </tr>\n",
       "    <tr>\n",
       "      <th>4</th>\n",
       "      <td>101001002655</td>\n",
       "      <td>4.0</td>\n",
       "      <td>4.57</td>\n",
       "      <td>3041051.24</td>\n",
       "      <td>13824386.21</td>\n",
       "      <td>3.0</td>\n",
       "      <td>2013-05-13 16:35:05</td>\n",
       "      <td>F</td>\n",
       "      <td>1138180000022</td>\n",
       "      <td>528C</td>\n",
       "      <td>20</td>\n",
       "    </tr>\n",
       "  </tbody>\n",
       "</table>\n",
       "</div>"
      ],
      "text/plain": [
       "                      id   sla  overdue           x            y  type  \\\n",
       "0           101000879701  10.0    -8.98  3105443.57  13832598.28   3.0   \n",
       "1  11682872-101001143202  14.0    -7.79  3047695.62  13826869.96   3.0   \n",
       "2           101001090815  10.0    -8.59  3078170.34  13820368.28   3.0   \n",
       "3  11594791-101000891316  15.0   -14.89  3041615.31  13820936.90   3.0   \n",
       "4           101001002655   4.0     4.57  3041051.24  13824386.21   3.0   \n",
       "\n",
       "              created district            id2   key  week  \n",
       "0 2013-01-07 15:17:10        C  1231880010005  492U     2  \n",
       "1 2013-09-28 11:28:36        F  1181610010014  488Z    39  \n",
       "2 2013-08-12 06:59:41        J  0834050000002  530H    33  \n",
       "3 2013-01-18 13:51:53        F  1095590000010  528G     3  \n",
       "4 2013-05-13 16:35:05        F  1138180000022  528C    20  "
      ]
     },
     "execution_count": 53,
     "metadata": {},
     "output_type": "execute_result"
    }
   ],
   "source": [
    "data_combine.head()"
   ]
  },
  {
   "cell_type": "code",
   "execution_count": 54,
   "metadata": {},
   "outputs": [
    {
     "data": {
      "text/plain": [
       "(25000, 11)"
      ]
     },
     "execution_count": 54,
     "metadata": {},
     "output_type": "execute_result"
    }
   ],
   "source": [
    "data_combine.shape"
   ]
  },
  {
   "cell_type": "code",
   "execution_count": 55,
   "metadata": {},
   "outputs": [],
   "source": [
    "data_combine['dow'] = data_combine['created'].dt.dayofweek"
   ]
  },
  {
   "cell_type": "code",
   "execution_count": 57,
   "metadata": {},
   "outputs": [
    {
     "data": {
      "text/plain": [
       "dow\n",
       "0    -4.413410\n",
       "1    -3.808284\n",
       "2    -3.825404\n",
       "3    -1.377711\n",
       "4    -6.304658\n",
       "5    -9.960528\n",
       "6   -13.976185\n",
       "Name: overdue, dtype: float64"
      ]
     },
     "execution_count": 57,
     "metadata": {},
     "output_type": "execute_result"
    }
   ],
   "source": [
    "data_combine.groupby('dow')['overdue'].mean()"
   ]
  },
  {
   "cell_type": "markdown",
   "metadata": {},
   "source": [
    "## My answer: Sunday"
   ]
  },
  {
   "cell_type": "markdown",
   "metadata": {},
   "source": [
    "# Q7\n",
    "\n",
    "Using both datafiles again, determine which district's mean location (`x` and `y` coordinates) is closest to the mean location of all data, ignoring data from district `Unknown`?"
   ]
  },
  {
   "cell_type": "code",
   "execution_count": 65,
   "metadata": {},
   "outputs": [
    {
     "data": {
      "text/plain": [
       "(25000, 12)"
      ]
     },
     "execution_count": 65,
     "metadata": {},
     "output_type": "execute_result"
    }
   ],
   "source": [
    "data_combine_dropUKN = data_combine.copy()\n",
    "data_combine_dropUKN[data_combine_dropUKN['district'] == 'Unknown'] = np.NaN\n",
    "data_combine_dropUKN.dropna()"
   ]
  },
  {
   "cell_type": "code",
   "execution_count": 67,
   "metadata": {},
   "outputs": [
    {
     "data": {
      "text/plain": [
       "C    3945\n",
       "D    3338\n",
       "B    2899\n",
       "K    2777\n",
       "H    2598\n",
       "I    2340\n",
       "A    1752\n",
       "G    1578\n",
       "F    1490\n",
       "E    1254\n",
       "J     990\n",
       "Name: district, dtype: int64"
      ]
     },
     "execution_count": 67,
     "metadata": {},
     "output_type": "execute_result"
    }
   ],
   "source": [
    "data_combine_dropUKN['district'].value_counts()"
   ]
  },
  {
   "cell_type": "code",
   "execution_count": 70,
   "metadata": {},
   "outputs": [],
   "source": [
    "d_coor = data_combine_dropUKN.groupby('district')[['x', 'y']].mean()\n",
    "mean_x = data_combine_dropUKN['x'].mean()\n",
    "mean_y = data_combine_dropUKN['y'].mean()"
   ]
  },
  {
   "cell_type": "code",
   "execution_count": 74,
   "metadata": {},
   "outputs": [
    {
     "data": {
      "text/html": [
       "<div>\n",
       "<style scoped>\n",
       "    .dataframe tbody tr th:only-of-type {\n",
       "        vertical-align: middle;\n",
       "    }\n",
       "\n",
       "    .dataframe tbody tr th {\n",
       "        vertical-align: top;\n",
       "    }\n",
       "\n",
       "    .dataframe thead th {\n",
       "        text-align: right;\n",
       "    }\n",
       "</style>\n",
       "<table border=\"1\" class=\"dataframe\">\n",
       "  <thead>\n",
       "    <tr style=\"text-align: right;\">\n",
       "      <th></th>\n",
       "      <th>district</th>\n",
       "      <th>x</th>\n",
       "      <th>y</th>\n",
       "    </tr>\n",
       "  </thead>\n",
       "  <tbody>\n",
       "    <tr>\n",
       "      <th>0</th>\n",
       "      <td>A</td>\n",
       "      <td>3.074090e+06</td>\n",
       "      <td>1.386535e+07</td>\n",
       "    </tr>\n",
       "    <tr>\n",
       "      <th>1</th>\n",
       "      <td>B</td>\n",
       "      <td>3.132169e+06</td>\n",
       "      <td>1.387285e+07</td>\n",
       "    </tr>\n",
       "    <tr>\n",
       "      <th>2</th>\n",
       "      <td>C</td>\n",
       "      <td>3.103778e+06</td>\n",
       "      <td>1.384182e+07</td>\n",
       "    </tr>\n",
       "    <tr>\n",
       "      <th>3</th>\n",
       "      <td>D</td>\n",
       "      <td>3.132290e+06</td>\n",
       "      <td>1.380794e+07</td>\n",
       "    </tr>\n",
       "    <tr>\n",
       "      <th>4</th>\n",
       "      <td>E</td>\n",
       "      <td>3.174524e+06</td>\n",
       "      <td>1.385730e+07</td>\n",
       "    </tr>\n",
       "    <tr>\n",
       "      <th>5</th>\n",
       "      <td>F</td>\n",
       "      <td>3.052256e+06</td>\n",
       "      <td>1.381715e+07</td>\n",
       "    </tr>\n",
       "    <tr>\n",
       "      <th>6</th>\n",
       "      <td>G</td>\n",
       "      <td>3.068135e+06</td>\n",
       "      <td>1.383798e+07</td>\n",
       "    </tr>\n",
       "    <tr>\n",
       "      <th>7</th>\n",
       "      <td>H</td>\n",
       "      <td>3.122190e+06</td>\n",
       "      <td>1.385954e+07</td>\n",
       "    </tr>\n",
       "    <tr>\n",
       "      <th>8</th>\n",
       "      <td>I</td>\n",
       "      <td>3.145095e+06</td>\n",
       "      <td>1.382659e+07</td>\n",
       "    </tr>\n",
       "    <tr>\n",
       "      <th>9</th>\n",
       "      <td>J</td>\n",
       "      <td>3.072780e+06</td>\n",
       "      <td>1.381760e+07</td>\n",
       "    </tr>\n",
       "    <tr>\n",
       "      <th>10</th>\n",
       "      <td>K</td>\n",
       "      <td>3.089845e+06</td>\n",
       "      <td>1.379485e+07</td>\n",
       "    </tr>\n",
       "  </tbody>\n",
       "</table>\n",
       "</div>"
      ],
      "text/plain": [
       "   district             x             y\n",
       "0         A  3.074090e+06  1.386535e+07\n",
       "1         B  3.132169e+06  1.387285e+07\n",
       "2         C  3.103778e+06  1.384182e+07\n",
       "3         D  3.132290e+06  1.380794e+07\n",
       "4         E  3.174524e+06  1.385730e+07\n",
       "5         F  3.052256e+06  1.381715e+07\n",
       "6         G  3.068135e+06  1.383798e+07\n",
       "7         H  3.122190e+06  1.385954e+07\n",
       "8         I  3.145095e+06  1.382659e+07\n",
       "9         J  3.072780e+06  1.381760e+07\n",
       "10        K  3.089845e+06  1.379485e+07"
      ]
     },
     "execution_count": 74,
     "metadata": {},
     "output_type": "execute_result"
    }
   ],
   "source": [
    "d_coor = d_coor.reset_index(drop=False)\n",
    "d_coor"
   ]
  },
  {
   "cell_type": "code",
   "execution_count": 76,
   "metadata": {},
   "outputs": [],
   "source": [
    "d_coor['dist'] = np.sqrt((d_coor['x'] - mean_x) ** 2 + (d_coor['y'] - mean_y) ** 2)"
   ]
  },
  {
   "cell_type": "code",
   "execution_count": 78,
   "metadata": {
    "scrolled": true
   },
   "outputs": [
    {
     "data": {
      "text/html": [
       "<div>\n",
       "<style scoped>\n",
       "    .dataframe tbody tr th:only-of-type {\n",
       "        vertical-align: middle;\n",
       "    }\n",
       "\n",
       "    .dataframe tbody tr th {\n",
       "        vertical-align: top;\n",
       "    }\n",
       "\n",
       "    .dataframe thead th {\n",
       "        text-align: right;\n",
       "    }\n",
       "</style>\n",
       "<table border=\"1\" class=\"dataframe\">\n",
       "  <thead>\n",
       "    <tr style=\"text-align: right;\">\n",
       "      <th></th>\n",
       "      <th>district</th>\n",
       "      <th>x</th>\n",
       "      <th>y</th>\n",
       "      <th>dist</th>\n",
       "    </tr>\n",
       "  </thead>\n",
       "  <tbody>\n",
       "    <tr>\n",
       "      <th>2</th>\n",
       "      <td>C</td>\n",
       "      <td>3.103778e+06</td>\n",
       "      <td>1.384182e+07</td>\n",
       "      <td>8663.073735</td>\n",
       "    </tr>\n",
       "    <tr>\n",
       "      <th>7</th>\n",
       "      <td>H</td>\n",
       "      <td>3.122190e+06</td>\n",
       "      <td>1.385954e+07</td>\n",
       "      <td>26638.695141</td>\n",
       "    </tr>\n",
       "    <tr>\n",
       "      <th>3</th>\n",
       "      <td>D</td>\n",
       "      <td>3.132290e+06</td>\n",
       "      <td>1.380794e+07</td>\n",
       "      <td>35682.624983</td>\n",
       "    </tr>\n",
       "    <tr>\n",
       "      <th>8</th>\n",
       "      <td>I</td>\n",
       "      <td>3.145095e+06</td>\n",
       "      <td>1.382659e+07</td>\n",
       "      <td>36255.362938</td>\n",
       "    </tr>\n",
       "    <tr>\n",
       "      <th>9</th>\n",
       "      <td>J</td>\n",
       "      <td>3.072780e+06</td>\n",
       "      <td>1.381760e+07</td>\n",
       "      <td>41483.914571</td>\n",
       "    </tr>\n",
       "    <tr>\n",
       "      <th>6</th>\n",
       "      <td>G</td>\n",
       "      <td>3.068135e+06</td>\n",
       "      <td>1.383798e+07</td>\n",
       "      <td>41959.488050</td>\n",
       "    </tr>\n",
       "    <tr>\n",
       "      <th>1</th>\n",
       "      <td>B</td>\n",
       "      <td>3.132169e+06</td>\n",
       "      <td>1.387285e+07</td>\n",
       "      <td>43119.444928</td>\n",
       "    </tr>\n",
       "    <tr>\n",
       "      <th>10</th>\n",
       "      <td>K</td>\n",
       "      <td>3.089845e+06</td>\n",
       "      <td>1.379485e+07</td>\n",
       "      <td>45697.763803</td>\n",
       "    </tr>\n",
       "    <tr>\n",
       "      <th>0</th>\n",
       "      <td>A</td>\n",
       "      <td>3.074090e+06</td>\n",
       "      <td>1.386535e+07</td>\n",
       "      <td>46513.233446</td>\n",
       "    </tr>\n",
       "    <tr>\n",
       "      <th>5</th>\n",
       "      <td>F</td>\n",
       "      <td>3.052256e+06</td>\n",
       "      <td>1.381715e+07</td>\n",
       "      <td>60731.032206</td>\n",
       "    </tr>\n",
       "    <tr>\n",
       "      <th>4</th>\n",
       "      <td>E</td>\n",
       "      <td>3.174524e+06</td>\n",
       "      <td>1.385730e+07</td>\n",
       "      <td>67962.773610</td>\n",
       "    </tr>\n",
       "  </tbody>\n",
       "</table>\n",
       "</div>"
      ],
      "text/plain": [
       "   district             x             y          dist\n",
       "2         C  3.103778e+06  1.384182e+07   8663.073735\n",
       "7         H  3.122190e+06  1.385954e+07  26638.695141\n",
       "3         D  3.132290e+06  1.380794e+07  35682.624983\n",
       "8         I  3.145095e+06  1.382659e+07  36255.362938\n",
       "9         J  3.072780e+06  1.381760e+07  41483.914571\n",
       "6         G  3.068135e+06  1.383798e+07  41959.488050\n",
       "1         B  3.132169e+06  1.387285e+07  43119.444928\n",
       "10        K  3.089845e+06  1.379485e+07  45697.763803\n",
       "0         A  3.074090e+06  1.386535e+07  46513.233446\n",
       "5         F  3.052256e+06  1.381715e+07  60731.032206\n",
       "4         E  3.174524e+06  1.385730e+07  67962.773610"
      ]
     },
     "execution_count": 78,
     "metadata": {},
     "output_type": "execute_result"
    }
   ],
   "source": [
    "d_coor.sort_values('dist')"
   ]
  },
  {
   "cell_type": "markdown",
   "metadata": {},
   "source": [
    "## My Answer: C"
   ]
  },
  {
   "cell_type": "markdown",
   "metadata": {},
   "source": [
    "# Free form essay question \n",
    "\n",
    ">Assume you are given multiple time series data sets that contain data covering the same time period from different sources (e.g. equipment sensor data, weather data, etc) and tasked with building a predictive model (e.g. forecasting one of the values).  Describe the process you would use to explore and prepare the data, and the process to select, train, and assess your model.  Do not assume that the data is uniformly sampled.\n",
    "\n",
    "\n",
    "**My answer:**\n",
    "## Exploration\n",
    "I would do the initial EDA within a Jupyter Notebook, primarily using the pandas, numpy, matplotlib, seaborn packages.  First, I would look at data types, shapes, and completeness of each data set.  Then I would primarily be looking at the data sampling period for each data set, correlations present within each and across all data sets, look for potential cyclical trends within each data set.  Ideally, I would like to speak to a domain expert about where this data came from, how it was acquired, any \"gotchas\", etc.\n",
    "\n",
    "## Preparation\n",
    "Would drop any constant fields; employ imputation techniques for missing data and/or establish a rule for dropping rows/columns; encode meaningful categorical features and drop less meaningful ones (e.g. contain too many categories).  If user inputs are present, employ regex logic to combine spurious data and extract meaningful information.  Would need to resample the data to a common frequency, using various interpolation methods where necessary.  Additional features would probably be required or requested by the client/domain expert -- engineer those and additional features as necessary.  Finally, the numerical data would need to be scaled appropriately.  \n",
    "\n",
    "## Select\n",
    "The first model choice should always be something simple.  In terms of time-series data this should probably be an ARIMA-like model which aims to remove cyclical trends present within the data.  The second model choice would likely be an LSTM-like model to gain the benefits of a neural-net model.\n",
    "\n",
    "## Train\n",
    "Given the prior EDA, select representative time periods to use for train/validation/test splits.  Grid search the hyperparameter space appropriately.  Evaluate the trained models using the validation set and the established model metric.  Perhaps training time or model size might be a consideration too.\n",
    "\n",
    "## Evaluation\n",
    "Work with the client/domain expert to establish a meaningful model metric based on the target variable.  Having client buy-in on model evaluation is critical for ultimate acceptance and usage of the model.  This metric will naturally differ for regression and classification models.  It could either be an error-term related value or an accuracy related value.\n",
    "\n",
    "\n"
   ]
  },
  {
   "cell_type": "code",
   "execution_count": null,
   "metadata": {},
   "outputs": [],
   "source": []
  }
 ],
 "metadata": {
  "kernelspec": {
   "display_name": "Python 3",
   "language": "python",
   "name": "python3"
  },
  "language_info": {
   "codemirror_mode": {
    "name": "ipython",
    "version": 3
   },
   "file_extension": ".py",
   "mimetype": "text/x-python",
   "name": "python",
   "nbconvert_exporter": "python",
   "pygments_lexer": "ipython3",
   "version": "3.7.1"
  },
  "toc": {
   "base_numbering": 1,
   "nav_menu": {},
   "number_sections": true,
   "sideBar": true,
   "skip_h1_title": false,
   "title_cell": "Table of Contents",
   "title_sidebar": "Contents",
   "toc_cell": false,
   "toc_position": {},
   "toc_section_display": true,
   "toc_window_display": false
  }
 },
 "nbformat": 4,
 "nbformat_minor": 2
}
